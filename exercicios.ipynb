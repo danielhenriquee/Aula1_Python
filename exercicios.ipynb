{
  "nbformat": 4,
  "nbformat_minor": 0,
  "metadata": {
    "colab": {
      "provenance": []
    },
    "kernelspec": {
      "name": "python3",
      "display_name": "Python 3"
    },
    "language_info": {
      "name": "python"
    }
  },
  "cells": [
    {
      "cell_type": "markdown",
      "source": [
        "# Exercício 01"
      ],
      "metadata": {
        "id": "Cu909R_rs50r"
      }
    },
    {
      "cell_type": "code",
      "source": [
        "( (5 * (10 - 4)**2) / (3**3 + 2) ) - 1"
      ],
      "metadata": {
        "colab": {
          "base_uri": "https://localhost:8080/"
        },
        "id": "5scEvTT-s7Wl",
        "outputId": "034d1aeb-3625-41c7-db0f-f043c160a583"
      },
      "execution_count": null,
      "outputs": [
        {
          "output_type": "execute_result",
          "data": {
            "text/plain": [
              "5.206896551724138"
            ]
          },
          "metadata": {},
          "execution_count": 1
        }
      ]
    },
    {
      "cell_type": "markdown",
      "source": [
        "# Exercício 02"
      ],
      "metadata": {
        "id": "iWBxQZgctBgb"
      }
    },
    {
      "cell_type": "code",
      "source": [
        "import numpy as np\n",
        "\n",
        "x1, y1 = 2, 3\n",
        "x2, y2 = 8, 11\n",
        "distancia = np.sqrt((x2 - x1)**2 + (y2 - y1)**2)\n",
        "print(distancia)"
      ],
      "metadata": {
        "id": "Ko5eFk1_tClj",
        "outputId": "2412305d-300f-4b90-c04e-69e9dfff6876",
        "colab": {
          "base_uri": "https://localhost:8080/"
        }
      },
      "execution_count": null,
      "outputs": [
        {
          "output_type": "stream",
          "name": "stdout",
          "text": [
            "10.0\n"
          ]
        }
      ]
    },
    {
      "cell_type": "markdown",
      "source": [
        "# Exercício 03"
      ],
      "metadata": {
        "id": "_XS0Zo8AVL0a"
      }
    },
    {
      "cell_type": "code",
      "source": [
        "import numpy as np\n",
        "\n",
        "p1, p2, p3 = 7, 8.5, 6\n",
        "media = p1*0.3 + p2*0.5 + p3*0.2\n",
        "print(media)"
      ],
      "metadata": {
        "colab": {
          "base_uri": "https://localhost:8080/"
        },
        "id": "s8wMohOyVO5a",
        "outputId": "646742eb-ce50-41e5-a3c9-c1272ebf44cd"
      },
      "execution_count": 1,
      "outputs": [
        {
          "output_type": "stream",
          "name": "stdout",
          "text": [
            "7.55\n"
          ]
        }
      ]
    }
  ]
}